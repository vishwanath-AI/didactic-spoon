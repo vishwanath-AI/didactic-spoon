{
 "cells": [
  {
   "cell_type": "code",
   "execution_count": 1,
   "metadata": {
    "extensions": {
     "jupyter_dashboards": {
      "version": 1,
      "views": {
       "grid_default": {
        "hidden": true
       },
       "report_default": {}
      }
     }
    }
   },
   "outputs": [],
   "source": [
    "#Author vishwanath Akuthota \n",
    "\n",
    "import pandas as pd\n",
    "import numpy as np\n",
    "import matplotlib as plt\n",
    "\n",
    "import sqlite3\n",
    "import time\n",
    "import matplotlib.pyplot as plt\n",
    "from collections import Counter"
   ]
  },
  {
   "cell_type": "code",
   "execution_count": 2,
   "metadata": {
    "extensions": {
     "jupyter_dashboards": {
      "version": 1,
      "views": {
       "grid_default": {
        "hidden": true
       },
       "report_default": {}
      }
     }
    }
   },
   "outputs": [],
   "source": [
    "df = pd.read_csv('Emails.csv')"
   ]
  },
  {
   "cell_type": "code",
   "execution_count": 3,
   "metadata": {
    "extensions": {
     "jupyter_dashboards": {
      "version": 1,
      "views": {
       "grid_default": {
        "col": 0,
        "height": 4,
        "hidden": true,
        "row": 0,
        "width": 4
       },
       "report_default": {}
      }
     }
    }
   },
   "outputs": [
    {
     "data": {
      "text/plain": [
       "(7945, 22)"
      ]
     },
     "execution_count": 3,
     "metadata": {},
     "output_type": "execute_result"
    }
   ],
   "source": [
    "df.shape"
   ]
  },
  {
   "cell_type": "code",
   "execution_count": 4,
   "metadata": {
    "extensions": {
     "jupyter_dashboards": {
      "version": 1,
      "views": {
       "grid_default": {
        "col": 0,
        "height": 14,
        "hidden": true,
        "row": 0,
        "width": 12
       },
       "report_default": {}
      }
     }
    }
   },
   "outputs": [
    {
     "data": {
      "text/html": [
       "<div>\n",
       "<style scoped>\n",
       "    .dataframe tbody tr th:only-of-type {\n",
       "        vertical-align: middle;\n",
       "    }\n",
       "\n",
       "    .dataframe tbody tr th {\n",
       "        vertical-align: top;\n",
       "    }\n",
       "\n",
       "    .dataframe thead th {\n",
       "        text-align: right;\n",
       "    }\n",
       "</style>\n",
       "<table border=\"1\" class=\"dataframe\">\n",
       "  <thead>\n",
       "    <tr style=\"text-align: right;\">\n",
       "      <th></th>\n",
       "      <th>Id</th>\n",
       "      <th>DocNumber</th>\n",
       "      <th>MetadataSubject</th>\n",
       "      <th>MetadataTo</th>\n",
       "      <th>MetadataFrom</th>\n",
       "      <th>SenderPersonId</th>\n",
       "      <th>MetadataDateSent</th>\n",
       "      <th>MetadataDateReleased</th>\n",
       "      <th>MetadataPdfLink</th>\n",
       "      <th>MetadataCaseNumber</th>\n",
       "      <th>...</th>\n",
       "      <th>ExtractedTo</th>\n",
       "      <th>ExtractedFrom</th>\n",
       "      <th>ExtractedCc</th>\n",
       "      <th>ExtractedDateSent</th>\n",
       "      <th>ExtractedCaseNumber</th>\n",
       "      <th>ExtractedDocNumber</th>\n",
       "      <th>ExtractedDateReleased</th>\n",
       "      <th>ExtractedReleaseInPartOrFull</th>\n",
       "      <th>ExtractedBodyText</th>\n",
       "      <th>RawText</th>\n",
       "    </tr>\n",
       "  </thead>\n",
       "  <tbody>\n",
       "    <tr>\n",
       "      <th>0</th>\n",
       "      <td>1</td>\n",
       "      <td>C05739545</td>\n",
       "      <td>WOW</td>\n",
       "      <td>H</td>\n",
       "      <td>Sullivan, Jacob J</td>\n",
       "      <td>87.0</td>\n",
       "      <td>2012-09-12T04:00:00+00:00</td>\n",
       "      <td>2015-05-22T04:00:00+00:00</td>\n",
       "      <td>DOCUMENTS/HRC_Email_1_296/HRCH2/DOC_0C05739545...</td>\n",
       "      <td>F-2015-04841</td>\n",
       "      <td>...</td>\n",
       "      <td>NaN</td>\n",
       "      <td>Sullivan, Jacob J &lt;Sullivan11@state.gov&gt;</td>\n",
       "      <td>NaN</td>\n",
       "      <td>Wednesday, September 12, 2012 10:16 AM</td>\n",
       "      <td>F-2015-04841</td>\n",
       "      <td>C05739545</td>\n",
       "      <td>05/13/2015</td>\n",
       "      <td>RELEASE IN FULL</td>\n",
       "      <td>NaN</td>\n",
       "      <td>UNCLASSIFIED\\nU.S. Department of State\\nCase N...</td>\n",
       "    </tr>\n",
       "    <tr>\n",
       "      <th>1</th>\n",
       "      <td>2</td>\n",
       "      <td>C05739546</td>\n",
       "      <td>H: LATEST: HOW SYRIA IS AIDING QADDAFI AND MOR...</td>\n",
       "      <td>H</td>\n",
       "      <td>NaN</td>\n",
       "      <td>NaN</td>\n",
       "      <td>2011-03-03T05:00:00+00:00</td>\n",
       "      <td>2015-05-22T04:00:00+00:00</td>\n",
       "      <td>DOCUMENTS/HRC_Email_1_296/HRCH1/DOC_0C05739546...</td>\n",
       "      <td>F-2015-04841</td>\n",
       "      <td>...</td>\n",
       "      <td>NaN</td>\n",
       "      <td>NaN</td>\n",
       "      <td>NaN</td>\n",
       "      <td>NaN</td>\n",
       "      <td>F-2015-04841</td>\n",
       "      <td>C05739546</td>\n",
       "      <td>05/13/2015</td>\n",
       "      <td>RELEASE IN PART</td>\n",
       "      <td>B6\\nThursday, March 3, 2011 9:45 PM\\nH: Latest...</td>\n",
       "      <td>UNCLASSIFIED\\nU.S. Department of State\\nCase N...</td>\n",
       "    </tr>\n",
       "    <tr>\n",
       "      <th>2</th>\n",
       "      <td>3</td>\n",
       "      <td>C05739547</td>\n",
       "      <td>CHRIS STEVENS</td>\n",
       "      <td>;H</td>\n",
       "      <td>Mills, Cheryl D</td>\n",
       "      <td>32.0</td>\n",
       "      <td>2012-09-12T04:00:00+00:00</td>\n",
       "      <td>2015-05-22T04:00:00+00:00</td>\n",
       "      <td>DOCUMENTS/HRC_Email_1_296/HRCH2/DOC_0C05739547...</td>\n",
       "      <td>F-2015-04841</td>\n",
       "      <td>...</td>\n",
       "      <td>B6</td>\n",
       "      <td>Mills, Cheryl D &lt;MillsCD@state.gov&gt;</td>\n",
       "      <td>Abedin, Huma</td>\n",
       "      <td>Wednesday, September 12, 2012 11:52 AM</td>\n",
       "      <td>F-2015-04841</td>\n",
       "      <td>C05739547</td>\n",
       "      <td>05/14/2015</td>\n",
       "      <td>RELEASE IN PART</td>\n",
       "      <td>Thx</td>\n",
       "      <td>UNCLASSIFIED\\nU.S. Department of State\\nCase N...</td>\n",
       "    </tr>\n",
       "    <tr>\n",
       "      <th>3</th>\n",
       "      <td>4</td>\n",
       "      <td>C05739550</td>\n",
       "      <td>CAIRO CONDEMNATION - FINAL</td>\n",
       "      <td>H</td>\n",
       "      <td>Mills, Cheryl D</td>\n",
       "      <td>32.0</td>\n",
       "      <td>2012-09-12T04:00:00+00:00</td>\n",
       "      <td>2015-05-22T04:00:00+00:00</td>\n",
       "      <td>DOCUMENTS/HRC_Email_1_296/HRCH2/DOC_0C05739550...</td>\n",
       "      <td>F-2015-04841</td>\n",
       "      <td>...</td>\n",
       "      <td>NaN</td>\n",
       "      <td>Mills, Cheryl D &lt;MillsCD@state.gov&gt;</td>\n",
       "      <td>Mitchell, Andrew B</td>\n",
       "      <td>Wednesday, September 12,2012 12:44 PM</td>\n",
       "      <td>F-2015-04841</td>\n",
       "      <td>C05739550</td>\n",
       "      <td>05/13/2015</td>\n",
       "      <td>RELEASE IN PART</td>\n",
       "      <td>NaN</td>\n",
       "      <td>UNCLASSIFIED\\nU.S. Department of State\\nCase N...</td>\n",
       "    </tr>\n",
       "    <tr>\n",
       "      <th>4</th>\n",
       "      <td>5</td>\n",
       "      <td>C05739554</td>\n",
       "      <td>H: LATEST: HOW SYRIA IS AIDING QADDAFI AND MOR...</td>\n",
       "      <td>Abedin, Huma</td>\n",
       "      <td>H</td>\n",
       "      <td>80.0</td>\n",
       "      <td>2011-03-11T05:00:00+00:00</td>\n",
       "      <td>2015-05-22T04:00:00+00:00</td>\n",
       "      <td>DOCUMENTS/HRC_Email_1_296/HRCH1/DOC_0C05739554...</td>\n",
       "      <td>F-2015-04841</td>\n",
       "      <td>...</td>\n",
       "      <td>NaN</td>\n",
       "      <td>NaN</td>\n",
       "      <td>NaN</td>\n",
       "      <td>NaN</td>\n",
       "      <td>F-2015-04841</td>\n",
       "      <td>C05739554</td>\n",
       "      <td>05/13/2015</td>\n",
       "      <td>RELEASE IN PART</td>\n",
       "      <td>H &lt;hrod17@clintonemail.com&gt;\\nFriday, March 11,...</td>\n",
       "      <td>B6\\nUNCLASSIFIED\\nU.S. Department of State\\nCa...</td>\n",
       "    </tr>\n",
       "  </tbody>\n",
       "</table>\n",
       "<p>5 rows × 22 columns</p>\n",
       "</div>"
      ],
      "text/plain": [
       "   Id  DocNumber                                    MetadataSubject  \\\n",
       "0   1  C05739545                                                WOW   \n",
       "1   2  C05739546  H: LATEST: HOW SYRIA IS AIDING QADDAFI AND MOR...   \n",
       "2   3  C05739547                                      CHRIS STEVENS   \n",
       "3   4  C05739550                         CAIRO CONDEMNATION - FINAL   \n",
       "4   5  C05739554  H: LATEST: HOW SYRIA IS AIDING QADDAFI AND MOR...   \n",
       "\n",
       "     MetadataTo       MetadataFrom  SenderPersonId           MetadataDateSent  \\\n",
       "0             H  Sullivan, Jacob J            87.0  2012-09-12T04:00:00+00:00   \n",
       "1             H                NaN             NaN  2011-03-03T05:00:00+00:00   \n",
       "2            ;H    Mills, Cheryl D            32.0  2012-09-12T04:00:00+00:00   \n",
       "3             H    Mills, Cheryl D            32.0  2012-09-12T04:00:00+00:00   \n",
       "4  Abedin, Huma                  H            80.0  2011-03-11T05:00:00+00:00   \n",
       "\n",
       "        MetadataDateReleased  \\\n",
       "0  2015-05-22T04:00:00+00:00   \n",
       "1  2015-05-22T04:00:00+00:00   \n",
       "2  2015-05-22T04:00:00+00:00   \n",
       "3  2015-05-22T04:00:00+00:00   \n",
       "4  2015-05-22T04:00:00+00:00   \n",
       "\n",
       "                                     MetadataPdfLink MetadataCaseNumber  \\\n",
       "0  DOCUMENTS/HRC_Email_1_296/HRCH2/DOC_0C05739545...       F-2015-04841   \n",
       "1  DOCUMENTS/HRC_Email_1_296/HRCH1/DOC_0C05739546...       F-2015-04841   \n",
       "2  DOCUMENTS/HRC_Email_1_296/HRCH2/DOC_0C05739547...       F-2015-04841   \n",
       "3  DOCUMENTS/HRC_Email_1_296/HRCH2/DOC_0C05739550...       F-2015-04841   \n",
       "4  DOCUMENTS/HRC_Email_1_296/HRCH1/DOC_0C05739554...       F-2015-04841   \n",
       "\n",
       "                         ...                         ExtractedTo  \\\n",
       "0                        ...                                 NaN   \n",
       "1                        ...                                 NaN   \n",
       "2                        ...                                  B6   \n",
       "3                        ...                                 NaN   \n",
       "4                        ...                                 NaN   \n",
       "\n",
       "                              ExtractedFrom         ExtractedCc  \\\n",
       "0  Sullivan, Jacob J <Sullivan11@state.gov>                 NaN   \n",
       "1                                       NaN                 NaN   \n",
       "2       Mills, Cheryl D <MillsCD@state.gov>        Abedin, Huma   \n",
       "3       Mills, Cheryl D <MillsCD@state.gov>  Mitchell, Andrew B   \n",
       "4                                       NaN                 NaN   \n",
       "\n",
       "                        ExtractedDateSent ExtractedCaseNumber  \\\n",
       "0  Wednesday, September 12, 2012 10:16 AM        F-2015-04841   \n",
       "1                                     NaN        F-2015-04841   \n",
       "2  Wednesday, September 12, 2012 11:52 AM        F-2015-04841   \n",
       "3   Wednesday, September 12,2012 12:44 PM        F-2015-04841   \n",
       "4                                     NaN        F-2015-04841   \n",
       "\n",
       "  ExtractedDocNumber ExtractedDateReleased ExtractedReleaseInPartOrFull  \\\n",
       "0          C05739545            05/13/2015              RELEASE IN FULL   \n",
       "1          C05739546            05/13/2015              RELEASE IN PART   \n",
       "2          C05739547            05/14/2015              RELEASE IN PART   \n",
       "3          C05739550            05/13/2015              RELEASE IN PART   \n",
       "4          C05739554            05/13/2015              RELEASE IN PART   \n",
       "\n",
       "                                   ExtractedBodyText  \\\n",
       "0                                                NaN   \n",
       "1  B6\\nThursday, March 3, 2011 9:45 PM\\nH: Latest...   \n",
       "2                                                Thx   \n",
       "3                                                NaN   \n",
       "4  H <hrod17@clintonemail.com>\\nFriday, March 11,...   \n",
       "\n",
       "                                             RawText  \n",
       "0  UNCLASSIFIED\\nU.S. Department of State\\nCase N...  \n",
       "1  UNCLASSIFIED\\nU.S. Department of State\\nCase N...  \n",
       "2  UNCLASSIFIED\\nU.S. Department of State\\nCase N...  \n",
       "3  UNCLASSIFIED\\nU.S. Department of State\\nCase N...  \n",
       "4  B6\\nUNCLASSIFIED\\nU.S. Department of State\\nCa...  \n",
       "\n",
       "[5 rows x 22 columns]"
      ]
     },
     "execution_count": 4,
     "metadata": {},
     "output_type": "execute_result"
    }
   ],
   "source": [
    "df.head()"
   ]
  },
  {
   "cell_type": "code",
   "execution_count": 5,
   "metadata": {
    "extensions": {
     "jupyter_dashboards": {
      "version": 1,
      "views": {
       "grid_default": {
        "col": 0,
        "height": 14,
        "hidden": true,
        "row": 0,
        "width": 4
       },
       "report_default": {}
      }
     }
    }
   },
   "outputs": [
    {
     "data": {
      "text/plain": [
       "Id                                int64\n",
       "DocNumber                        object\n",
       "MetadataSubject                  object\n",
       "MetadataTo                       object\n",
       "MetadataFrom                     object\n",
       "SenderPersonId                  float64\n",
       "MetadataDateSent                 object\n",
       "MetadataDateReleased             object\n",
       "MetadataPdfLink                  object\n",
       "MetadataCaseNumber               object\n",
       "MetadataDocumentClass            object\n",
       "ExtractedSubject                 object\n",
       "ExtractedTo                      object\n",
       "ExtractedFrom                    object\n",
       "ExtractedCc                      object\n",
       "ExtractedDateSent                object\n",
       "ExtractedCaseNumber              object\n",
       "ExtractedDocNumber               object\n",
       "ExtractedDateReleased            object\n",
       "ExtractedReleaseInPartOrFull     object\n",
       "ExtractedBodyText                object\n",
       "RawText                          object\n",
       "dtype: object"
      ]
     },
     "execution_count": 5,
     "metadata": {},
     "output_type": "execute_result"
    }
   ],
   "source": [
    "df.dtypes"
   ]
  },
  {
   "cell_type": "code",
   "execution_count": 6,
   "metadata": {
    "extensions": {
     "jupyter_dashboards": {
      "version": 1,
      "views": {
       "grid_default": {
        "col": 4,
        "height": 9,
        "hidden": true,
        "row": 29,
        "width": 4
       },
       "report_default": {}
      }
     }
    }
   },
   "outputs": [
    {
     "data": {
      "text/plain": [
       "<matplotlib.axes._subplots.AxesSubplot at 0x117685d68>"
      ]
     },
     "execution_count": 6,
     "metadata": {},
     "output_type": "execute_result"
    },
    {
     "data": {
      "image/png": "[encoded data removed]",
      "text/plain": [
       "<matplotlib.figure.Figure at 0x1174c0e48>"
      ]
     },
     "metadata": {},
     "output_type": "display_data"
    }
   ],
   "source": [
    "df.SenderPersonId.plot(kind='bar', figsize=(20,10))"
   ]
  },
  {
   "cell_type": "code",
   "execution_count": 7,
   "metadata": {
    "extensions": {
     "jupyter_dashboards": {
      "version": 1,
      "views": {
       "grid_default": {
        "hidden": true
       },
       "report_default": {}
      }
     }
    }
   },
   "outputs": [],
   "source": [
    "persons = pd.read_csv(\"Persons.csv\")\n",
    "emails  = pd.read_csv(\"Emails.csv\")\n",
    "\n",
    "hilaryEmails = emails[emails.SenderPersonId == 80]\n",
    "hilaryEmails = hilaryEmails.dropna(how='any')"
   ]
  },
  {
   "cell_type": "code",
   "execution_count": 8,
   "metadata": {
    "extensions": {
     "jupyter_dashboards": {
      "version": 1,
      "views": {
       "grid_default": {
        "hidden": true
       },
       "report_default": {}
      }
     }
    }
   },
   "outputs": [],
   "source": [
    "\n",
    "#Temporal Analysis\n",
    "#Wrangle the time into a readable format\n",
    "\n",
    "#For the most part the times are in the following format:\n",
    "\n",
    "#day of week, Month Day, Year, time AM|PM\n",
    "\n",
    "date_re = r'(?P<dow>\\w+,\\s*?)?(?P<month>)'"
   ]
  },
  {
   "cell_type": "code",
   "execution_count": 9,
   "metadata": {
    "extensions": {
     "jupyter_dashboards": {
      "version": 1,
      "views": {
       "grid_default": {
        "col": 0,
        "height": 52,
        "hidden": true,
        "row": 0,
        "width": 4
       },
       "report_default": {}
      }
     }
    }
   },
   "outputs": [
    {
     "data": {
      "text/plain": [
       "65           Saturday, April 02, 2011 1034 AM\n",
       "82          Monday, October 08, 2012 07:26 AM\n",
       "89       Saturday, September 15, 2012 6:36 PM\n",
       "92      Saturday, September 15, 2012 06:36 PM\n",
       "103      Saturday, September 15, 2012 6:53 PM\n",
       "105          Friday, October 12, 2012 6:10 AM\n",
       "111      Saturday, September 15, 2012 7.13 PM\n",
       "112        Sunday, September 16, 2012 7:50 AM\n",
       "115        Sunday, September 16, 2012 8:57 AM\n",
       "117        Sunday, September 16, 2012 8:57 AM\n",
       "123       Sunday, September 16, 2012 08:59 AM\n",
       "131          Sunday, October 14, 2012 9:40 AM\n",
       "136           Sunday, October 14, 2012 947 AM\n",
       "139       Sunday, September 16, 2012 02:36 PM\n",
       "157          Monday, August 22, 2011 07:06 AM\n",
       "183       Sunday, September 23, 2012 10:29 PM\n",
       "202       Sunday, September 23, 2012 10:57 PM\n",
       "215        Thursday, January 12, 2012 3:41 PM\n",
       "219         Friday, November 23, 2012 4:16 PM\n",
       "250       Thursday, December 20, 2012 8:03 AM\n",
       "252       Thursday, December 20, 2012 8:23 AM\n",
       "296           Monday, April 13, 2009 11:09 AM\n",
       "305           Tuesday, April 21, 2009 7:16 AM\n",
       "314            Friday, April 24, 2009 4:22 PM\n",
       "315            Sunday, April 26, 2009 8:44 PM\n",
       "317            Monday, April 27, 2009 8:34 PM\n",
       "318           Tuesday, April 28, 2009 5:40 AM\n",
       "323         Wednesday, April 29, 2009 6:54 AM\n",
       "327             Saturday, May 2, 2009 5:49 PM\n",
       "336               Monday, May 4, 2009 7:36 PM\n",
       "                        ...                  \n",
       "7562          Thursday, July 1, 2010 11:09 AM\n",
       "7564           Thursday, July 1, 2010 6:53 PM\n",
       "7637         Saturday, April 24, 2010 4:43 PM\n",
       "7641         Saturday, April 24, 2010 7:30 PM\n",
       "7642         Saturday, April 24, 2010 7:43 PM\n",
       "7648           Sunday, April 25, 2010 4:13 PM\n",
       "7650           Sunday, April 25, 2010 9:35 PM\n",
       "7651          Monday, April 26, 2010 10:15 AM\n",
       "7657           Monday, April 26, 2010 8:23 PM\n",
       "7683           Friday, April 30, 2010 5:59 AM\n",
       "7684           Friday, April 30, 2010 9:57 AM\n",
       "7685          Friday, April 30, 2010 10:04 AM\n",
       "7686           Friday, April 30, 2010 5:13 PM\n",
       "7689           Friday, April 30, 2010 9:44 PM\n",
       "7694             Sunday, May 16, 2010 2:05 PM\n",
       "7711           Thursday, May 20, 2010 7:47 AM\n",
       "7713         Saturday, June 12, 2010 10:34 PM\n",
       "7714           Sunday, June 13, 2010 11:50 AM\n",
       "7715            Sunday, June 13, 2010 1:09 PM\n",
       "7718            Monday, June 14, 2010 9:24 PM\n",
       "7724         Wednesday, May 26, 2010 10:48 AM\n",
       "7734             Friday, May 28, 2010 8:29 AM\n",
       "7741             Sunday, May 30, 2010 7:33 PM\n",
       "7753            Monday, June 14, 2010 9:25 PM\n",
       "7793            Monday, June 21, 2010 8:02 AM\n",
       "7802        Wednesday, June 23, 2010 11:29 AM\n",
       "7804         Wednesday, June 23, 2010 1:09 PM\n",
       "7810         Wednesday, June 23, 2010 7:36 PM\n",
       "7814             Saturda June 26 2010 7:24 AM\n",
       "7824          Tuesday, June 29, 2010 12:44 AM\n",
       "Name: ExtractedDateSent, Length: 488, dtype: object"
      ]
     },
     "execution_count": 9,
     "metadata": {},
     "output_type": "execute_result"
    }
   ],
   "source": [
    "hilaryEmails.ExtractedDateSent[hilaryEmails.ExtractedDateSent.str.split(\" \").apply(len) == 6]"
   ]
  },
  {
   "cell_type": "code",
   "execution_count": 10,
   "metadata": {
    "extensions": {
     "jupyter_dashboards": {
      "version": 1,
      "views": {
       "grid_default": {
        "hidden": true
       },
       "report_default": {}
      }
     }
    }
   },
   "outputs": [],
   "source": [
    "#Some dates are pretty bad and need manual readjustment. I will not try to do that here\n",
    "\n",
    "def fixDate(date):\n",
    "    spl = date.split(\" \")\n",
    "    \n",
    "    if len(spl) >= 6:\n",
    "        try:\n",
    "            if spl[0].startswith(u'\\xef\\xbf\\xbd'):\n",
    "                spl = spl[1:]\n",
    "        except UnicodeEncodeError:\n",
    "            spl = spl[1:]\n",
    "        dow, month, day, year, time = spl[:5]\n",
    "    elif len(spl) == 5:\n",
    "        if spl[-1].endswith('M'):\n",
    "            return np.NAN\n",
    "        else:\n",
    "            dow, month, day, time, year = spl[:5]\n",
    "    else:\n",
    "        return np.NAN\n",
    "    try:\n",
    "        if ':' not in time:\n",
    "            time = time[:-2] + ':' + time[-2:]\n",
    "        return u\"{} {} {} {}\".format(month, day, year, time.replace('.', ''))\n",
    "    except UnicodeEncodeError as e:\n",
    "        print(e)"
   ]
  },
  {
   "cell_type": "code",
   "execution_count": 11,
   "metadata": {
    "extensions": {
     "jupyter_dashboards": {
      "version": 1,
      "views": {
       "grid_default": {
        "hidden": true
       },
       "report_default": {}
      }
     }
    }
   },
   "outputs": [],
   "source": [
    "def tryToCoerce(s):\n",
    "    try:\n",
    "        return pd.to_datetime(fixDate(s))\n",
    "    except Exception:\n",
    "        return np.NaN"
   ]
  },
  {
   "cell_type": "code",
   "execution_count": 12,
   "metadata": {
    "extensions": {
     "jupyter_dashboards": {
      "version": 1,
      "views": {
       "grid_default": {
        "col": 4,
        "height": 4,
        "hidden": true,
        "row": 0,
        "width": 4
       },
       "report_default": {}
      }
     }
    }
   },
   "outputs": [
    {
     "data": {
      "text/plain": [
       "Timestamp('2009-09-17 06:03:43')"
      ]
     },
     "execution_count": 12,
     "metadata": {},
     "output_type": "execute_result"
    }
   ],
   "source": [
    "pd.to_datetime(fixDate('Thu Sep 17 06:03:43 2009'))"
   ]
  },
  {
   "cell_type": "code",
   "execution_count": 13,
   "metadata": {
    "extensions": {
     "jupyter_dashboards": {
      "version": 1,
      "views": {
       "grid_default": {
        "col": 8,
        "height": 4,
        "hidden": true,
        "row": 0,
        "width": 4
       },
       "report_default": {}
      }
     }
    }
   },
   "outputs": [
    {
     "data": {
      "text/plain": [
       "12"
      ]
     },
     "execution_count": 13,
     "metadata": {},
     "output_type": "execute_result"
    }
   ],
   "source": [
    "sum(hilaryEmails.ExtractedDateSent.apply(tryToCoerce).isnull())"
   ]
  },
  {
   "cell_type": "code",
   "execution_count": 14,
   "metadata": {
    "extensions": {
     "jupyter_dashboards": {
      "version": 1,
      "views": {
       "grid_default": {
        "hidden": true
       },
       "report_default": {}
      }
     }
    }
   },
   "outputs": [],
   "source": [
    "hilaryEmails['cleanedDate'] = (hilaryEmails.ExtractedDateSent.apply(tryToCoerce).dropna(how=\"any\"))"
   ]
  },
  {
   "cell_type": "code",
   "execution_count": 15,
   "metadata": {
    "extensions": {
     "jupyter_dashboards": {
      "version": 1,
      "views": {
       "grid_default": {
        "hidden": true
       },
       "report_default": {}
      }
     }
    }
   },
   "outputs": [],
   "source": [
    "hilaryEmails.index = hilaryEmails.cleanedDate"
   ]
  },
  {
   "cell_type": "code",
   "execution_count": 16,
   "metadata": {
    "extensions": {
     "jupyter_dashboards": {
      "version": 1,
      "views": {
       "grid_default": {
        "hidden": true
       },
       "report_default": {}
      }
     }
    }
   },
   "outputs": [],
   "source": [
    "hilaryEmails.sort_index(inplace=True)"
   ]
  },
  {
   "cell_type": "code",
   "execution_count": 17,
   "metadata": {
    "extensions": {
     "jupyter_dashboards": {
      "version": 1,
      "views": {
       "grid_default": {
        "hidden": true
       },
       "report_default": {}
      }
     }
    }
   },
   "outputs": [],
   "source": [
    "minDate, maxDate = hilaryEmails.index.min(), hilaryEmails.index.max()"
   ]
  },
  {
   "cell_type": "code",
   "execution_count": 18,
   "metadata": {
    "extensions": {
     "jupyter_dashboards": {
      "version": 1,
      "views": {
       "grid_default": {
        "col": 4,
        "height": 4,
        "hidden": true,
        "row": 9,
        "width": 4
       },
       "report_default": {}
      }
     }
    }
   },
   "outputs": [
    {
     "data": {
      "text/plain": [
       "\"Hilary's emails range from 2009-04-13 to 2012-12-20\""
      ]
     },
     "execution_count": 18,
     "metadata": {},
     "output_type": "execute_result"
    }
   ],
   "source": [
    "\"Hilary's emails range from {} to {}\".format(minDate.date(), maxDate.date())"
   ]
  },
  {
   "cell_type": "code",
   "execution_count": 19,
   "metadata": {
    "extensions": {
     "jupyter_dashboards": {
      "version": 1,
      "views": {
       "grid_default": {
        "hidden": true
       },
       "report_default": {}
      }
     }
    }
   },
   "outputs": [],
   "source": [
    "# How many emails per day did she send?"
   ]
  },
  {
   "cell_type": "code",
   "execution_count": 20,
   "metadata": {
    "extensions": {
     "jupyter_dashboards": {
      "version": 1,
      "views": {
       "grid_default": {
        "col": 0,
        "height": 11,
        "hidden": false,
        "row": 29,
        "width": 4
       },
       "report_default": {}
      }
     }
    }
   },
   "outputs": [
    {
     "name": "stderr",
     "output_type": "stream",
     "text": [
      "/Users/vishwanathakuthota/anaconda3/lib/python3.6/site-packages/ipykernel_launcher.py:1: FutureWarning: how in .resample() is deprecated\n",
      "the new syntax is .resample(...).count()\n",
      "  \"\"\"Entry point for launching an IPython kernel.\n"
     ]
    },
    {
     "data": {
      "text/plain": [
       "<matplotlib.axes._subplots.AxesSubplot at 0x116171160>"
      ]
     },
     "execution_count": 20,
     "metadata": {},
     "output_type": "execute_result"
    },
    {
     "data": {
      "image/png": "[encoded data removed]",
      "text/plain": [
       "<matplotlib.figure.Figure at 0x1174c0dd8>"
      ]
     },
     "metadata": {},
     "output_type": "display_data"
    }
   ],
   "source": [
    "hilaryEmails.resample('D', how='count').Id.plot()"
   ]
  },
  {
   "cell_type": "code",
   "execution_count": 21,
   "metadata": {
    "extensions": {
     "jupyter_dashboards": {
      "version": 1,
      "views": {
       "grid_default": {
        "col": 4,
        "height": 3,
        "hidden": false,
        "row": 37,
        "width": 4
       },
       "report_default": {}
      }
     }
    }
   },
   "outputs": [
    {
     "data": {
      "text/plain": [
       "(469, 24)"
      ]
     },
     "execution_count": 21,
     "metadata": {},
     "output_type": "execute_result"
    }
   ],
   "source": [
    "#There is intense email activity around july 2009 to july 2010. It then drops off. You can inspect to make sure\n",
    "\n",
    "# before 2011 and after counts\n",
    "hilaryEmails[:'2011-01'].Id.count(), hilaryEmails['2011-01':].Id.count()"
   ]
  },
  {
   "cell_type": "code",
   "execution_count": 22,
   "metadata": {
    "extensions": {
     "jupyter_dashboards": {
      "version": 1,
      "views": {
       "grid_default": {
        "col": 4,
        "height": 4,
        "hidden": false,
        "row": 29,
        "width": 4
       },
       "report_default": {}
      }
     }
    }
   },
   "outputs": [
    {
     "data": {
      "text/plain": [
       "cleanedDate\n",
       "2009-08-29    13\n",
       "Name: Id, dtype: int64"
      ]
     },
     "execution_count": 22,
     "metadata": {},
     "output_type": "execute_result"
    }
   ],
   "source": [
    "#On Which day did she send the most emails?\n",
    "hilaryEmails.Id.resample(\"D\").count().sort_values(ascending=False).head(1)"
   ]
  },
  {
   "cell_type": "code",
   "execution_count": 23,
   "metadata": {
    "extensions": {
     "jupyter_dashboards": {
      "version": 1,
      "views": {
       "grid_default": {
        "col": 0,
        "height": 15,
        "hidden": false,
        "row": 40,
        "width": 12
       },
       "report_default": {}
      }
     }
    }
   },
   "outputs": [
    {
     "data": {
      "text/html": [
       "<div>\n",
       "<style scoped>\n",
       "    .dataframe tbody tr th:only-of-type {\n",
       "        vertical-align: middle;\n",
       "    }\n",
       "\n",
       "    .dataframe tbody tr th {\n",
       "        vertical-align: top;\n",
       "    }\n",
       "\n",
       "    .dataframe thead th {\n",
       "        text-align: right;\n",
       "    }\n",
       "</style>\n",
       "<table border=\"1\" class=\"dataframe\">\n",
       "  <thead>\n",
       "    <tr style=\"text-align: right;\">\n",
       "      <th></th>\n",
       "      <th>MetadataSubject</th>\n",
       "      <th>ExtractedBodyText</th>\n",
       "    </tr>\n",
       "    <tr>\n",
       "      <th>cleanedDate</th>\n",
       "      <th></th>\n",
       "      <th></th>\n",
       "    </tr>\n",
       "  </thead>\n",
       "  <tbody>\n",
       "    <tr>\n",
       "      <th>2009-08-29 01:21:00</th>\n",
       "      <td>CALL LIST</td>\n",
       "      <td>Ok, thx.</td>\n",
       "    </tr>\n",
       "    <tr>\n",
       "      <th>2009-08-29 01:47:00</th>\n",
       "      <td>HONDURAS MILITARY COUP DECISION</td>\n",
       "      <td>I am just taking off. When I land I will call ...</td>\n",
       "    </tr>\n",
       "    <tr>\n",
       "      <th>2009-08-29 05:44:00</th>\n",
       "      <td>(NYTIMES) U.S. ACCUSES PAKISTAN OF ALTERING MI...</td>\n",
       "      <td>I just stopped at and no one was home so I'm h...</td>\n",
       "    </tr>\n",
       "    <tr>\n",
       "      <th>2009-08-29 07:48:00</th>\n",
       "      <td>HONDURAS MILITARY COUP DECISION</td>\n",
       "      <td>Ok--i should be free after 2. Pls email when y...</td>\n",
       "    </tr>\n",
       "    <tr>\n",
       "      <th>2009-08-29 07:51:00</th>\n",
       "      <td>CALL LIST</td>\n",
       "      <td>Did we ever get a time? The call will last an ...</td>\n",
       "    </tr>\n",
       "    <tr>\n",
       "      <th>2009-08-29 07:53:00</th>\n",
       "      <td>CALL LIST</td>\n",
       "      <td>I cannot do before 1 today. What about 7 or 8 ...</td>\n",
       "    </tr>\n",
       "    <tr>\n",
       "      <th>2009-08-29 07:57:00</th>\n",
       "      <td>CALL LIST</td>\n",
       "      <td>Ok.</td>\n",
       "    </tr>\n",
       "    <tr>\n",
       "      <th>2009-08-29 08:32:00</th>\n",
       "      <td>OPRAH</td>\n",
       "      <td>Who will interview me?</td>\n",
       "    </tr>\n",
       "    <tr>\n",
       "      <th>2009-08-29 08:39:00</th>\n",
       "      <td>OPRAH</td>\n",
       "      <td>But I'm leaving here on Wed and I'll be at hom...</td>\n",
       "    </tr>\n",
       "    <tr>\n",
       "      <th>2009-08-29 09:16:00</th>\n",
       "      <td>CALL LIST</td>\n",
       "      <td>Lauren told me after 1 would not work for him ...</td>\n",
       "    </tr>\n",
       "    <tr>\n",
       "      <th>2009-08-29 09:19:00</th>\n",
       "      <td>OPRAH</td>\n",
       "      <td>I thought you meant next Sunday or Monday. Wha...</td>\n",
       "    </tr>\n",
       "    <tr>\n",
       "      <th>2009-08-29 09:30:00</th>\n",
       "      <td>OPRAH</td>\n",
       "      <td>I can't do tonight and not sure about tomorrow...</td>\n",
       "    </tr>\n",
       "    <tr>\n",
       "      <th>2009-08-29 09:44:00</th>\n",
       "      <td>OPRAH</td>\n",
       "      <td>Ok. But i'll need hair and makeup touch up. Wi...</td>\n",
       "    </tr>\n",
       "  </tbody>\n",
       "</table>\n",
       "</div>"
      ],
      "text/plain": [
       "                                                       MetadataSubject  \\\n",
       "cleanedDate                                                              \n",
       "2009-08-29 01:21:00                                          CALL LIST   \n",
       "2009-08-29 01:47:00                    HONDURAS MILITARY COUP DECISION   \n",
       "2009-08-29 05:44:00  (NYTIMES) U.S. ACCUSES PAKISTAN OF ALTERING MI...   \n",
       "2009-08-29 07:48:00                    HONDURAS MILITARY COUP DECISION   \n",
       "2009-08-29 07:51:00                                          CALL LIST   \n",
       "2009-08-29 07:53:00                                          CALL LIST   \n",
       "2009-08-29 07:57:00                                          CALL LIST   \n",
       "2009-08-29 08:32:00                                              OPRAH   \n",
       "2009-08-29 08:39:00                                              OPRAH   \n",
       "2009-08-29 09:16:00                                          CALL LIST   \n",
       "2009-08-29 09:19:00                                              OPRAH   \n",
       "2009-08-29 09:30:00                                              OPRAH   \n",
       "2009-08-29 09:44:00                                              OPRAH   \n",
       "\n",
       "                                                     ExtractedBodyText  \n",
       "cleanedDate                                                             \n",
       "2009-08-29 01:21:00                                           Ok, thx.  \n",
       "2009-08-29 01:47:00  I am just taking off. When I land I will call ...  \n",
       "2009-08-29 05:44:00  I just stopped at and no one was home so I'm h...  \n",
       "2009-08-29 07:48:00  Ok--i should be free after 2. Pls email when y...  \n",
       "2009-08-29 07:51:00  Did we ever get a time? The call will last an ...  \n",
       "2009-08-29 07:53:00  I cannot do before 1 today. What about 7 or 8 ...  \n",
       "2009-08-29 07:57:00                                                Ok.  \n",
       "2009-08-29 08:32:00                             Who will interview me?  \n",
       "2009-08-29 08:39:00  But I'm leaving here on Wed and I'll be at hom...  \n",
       "2009-08-29 09:16:00  Lauren told me after 1 would not work for him ...  \n",
       "2009-08-29 09:19:00  I thought you meant next Sunday or Monday. Wha...  \n",
       "2009-08-29 09:30:00  I can't do tonight and not sure about tomorrow...  \n",
       "2009-08-29 09:44:00  Ok. But i'll need hair and makeup touch up. Wi...  "
      ]
     },
     "execution_count": 23,
     "metadata": {},
     "output_type": "execute_result"
    }
   ],
   "source": [
    "#What happened on 8-29-2009!?\n",
    "\n",
    "hilaryEmails['2009-08-29'][['MetadataSubject', 'ExtractedBodyText']]"
   ]
  },
  {
   "cell_type": "markdown",
   "metadata": {
    "extensions": {
     "jupyter_dashboards": {
      "version": 1,
      "views": {
       "grid_default": {
        "col": 4,
        "height": 4,
        "hidden": false,
        "row": 33,
        "width": 4
       },
       "report_default": {}
      }
     }
    }
   },
   "source": [
    "woowooooo she spoke with Oprah......"
   ]
  },
  {
   "cell_type": "code",
   "execution_count": 24,
   "metadata": {
    "extensions": {
     "jupyter_dashboards": {
      "version": 1,
      "views": {
       "grid_default": {
        "col": 8,
        "height": 11,
        "hidden": false,
        "row": 29,
        "width": 4
       },
       "report_default": {}
      }
     }
    }
   },
   "outputs": [
    {
     "data": {
      "text/plain": [
       "1.0     32\n",
       "2.0     14\n",
       "3.0     23\n",
       "4.0     28\n",
       "5.0     35\n",
       "6.0     59\n",
       "7.0     78\n",
       "8.0     43\n",
       "9.0     62\n",
       "10.0    59\n",
       "11.0    32\n",
       "12.0    28\n",
       "dtype: int64"
      ]
     },
     "execution_count": 24,
     "metadata": {},
     "output_type": "execute_result"
    }
   ],
   "source": [
    "#What were her email times?\n",
    "hilaryEmails.groupby(lambda s: s.hour).apply(len)"
   ]
  },
  {
   "cell_type": "code",
   "execution_count": 25,
   "metadata": {
    "extensions": {
     "jupyter_dashboards": {
      "version": 1,
      "views": {
       "grid_default": {
        "hidden": true
       },
       "report_default": {}
      }
     }
    }
   },
   "outputs": [],
   "source": [
    "import sqlite3\n",
    "import time\n",
    "import pandas as pd\n",
    "import numpy as np\n",
    "import matplotlib.pyplot as plt\n",
    "from collections import Counter\n",
    "\n",
    "sql_conn = sqlite3.connect('database.sqlite')\n",
    "\n",
    "data = sql_conn.execute('SELECT MetadataTo, MetadataFrom FROM Emails WHERE MetadataTo LIKE \"H\"')\n"
   ]
  },
  {
   "cell_type": "code",
   "execution_count": 26,
   "metadata": {
    "extensions": {
     "jupyter_dashboards": {
      "version": 1,
      "views": {
       "grid_default": {
        "hidden": true
       },
       "report_default": {}
      }
     }
    }
   },
   "outputs": [],
   "source": [
    "pseudonyms = [\"sbwhoeop\",\"pir\",\"millscd@state.gov\",\"abedinh@state.gov\",\n",
    "              \"cheryl.mills\",\"mills, cheryl\",\"jake.sullivan\",\"sullivan, jake\", \n",
    "              \"mills, chery\",\"sullivanjj@state.gov\",\"jilotylc@state.gov\",\"pverveer\",\n",
    "              \"pverveer\",\"valmorolj@state.gov\",\"preines\",\"hanleymr@state.gov\",\n",
    "              \"slaughtera@state.gov\",\"vermarr@state.gov\",\"russorv@state.gov\",\"balderstonkm@state.gov\",\n",
    "              \"muscatinel@state.gov\",\"reinesp@state.gov\",\"crowleypj@state.gov\",\"stalbott\",\n",
    "              \"mchaleja@state.gov\",\"campbellkm@state.gov\",\"verveerms@state.gov\",\"steinbergjb@state.gov\",\n",
    "              \"lewjj@state.gov\"]\n",
    "              \n",
    "realNames = [\"Blumenthal, Sidney\",\"Reines, Philippe I\",\"Mills, Cheryl D\",\"Abedin, Huma\",\n",
    "         \"Mills, Cheryl D\",\"Mills, Cheryl D\",\"Sullivan, Jacob J\",\"Sullivan, Jacob J\",\n",
    "         \"Mills, Cheryl D\",\"Sullivan, Jacob J\",\"Jiloty, Lauren C\",\"Verveer, Melanne S\",\n",
    "         \"Verveer, Melanne S\",\"Valmoro, Lona J\",\"Reines, Philippe I\",\"Hanley, Monica R\",\n",
    "         \"Slaughter, Anne-Marie\",\"Verma, Richard R\",\"Russo, Robert V\",\"Balderston, Kris M\",\n",
    "         \"Muscatine, Lissa\",\"Reines, Philippe I\",\"Crowley, Philip J\",\"Talbott, Strobe\",\n",
    "         \"McHale, Judith A\",\"Campbell, Kurt M\",\"Verveer, Melanne S\",\"Steinberg, James B\",\n",
    "         \"Lew, Jacob J\"]"
   ]
  },
  {
   "cell_type": "code",
   "execution_count": 27,
   "metadata": {
    "extensions": {
     "jupyter_dashboards": {
      "version": 1,
      "views": {
       "grid_default": {
        "col": 0,
        "height": 4,
        "hidden": true,
        "row": 0,
        "width": 4
       },
       "report_default": {}
      }
     }
    }
   },
   "outputs": [
    {
     "name": "stdout",
     "output_type": "stream",
     "text": [
      "29 29\n"
     ]
    }
   ],
   "source": [
    "print(len(pseudonyms), len(realNames))"
   ]
  },
  {
   "cell_type": "code",
   "execution_count": 28,
   "metadata": {
    "extensions": {
     "jupyter_dashboards": {
      "version": 1,
      "views": {
       "grid_default": {
        "hidden": true
       },
       "report_default": {}
      }
     }
    }
   },
   "outputs": [],
   "source": [
    "otherSenders = []\n",
    "\n",
    "#No hiding behind fake names!\n",
    "for email in data:\n",
    "    if email[1] != '':\n",
    "        if email[1].lower() in pseudonyms:\n",
    "            otherSenders.append(realNames[pseudonyms.index(email[1].lower())])\n",
    "        else:\n",
    "            otherSenders.append(email[1])\n",
    "\n",
    "c = Counter(otherSenders)\n",
    "topSenders = (c.most_common(20))\n",
    "\n",
    "\n",
    "names = [x[0] for x in topSenders]\n",
    "y_pos = np.arange(0, len(names)*2, 2)\n",
    "#y_pos = np.arange(len(names))\n",
    "values = [x[1] for x in topSenders]"
   ]
  },
  {
   "cell_type": "code",
   "execution_count": 29,
   "metadata": {
    "extensions": {
     "jupyter_dashboards": {
      "version": 1,
      "views": {
       "grid_default": {
        "col": 0,
        "height": 15,
        "hidden": false,
        "row": 0,
        "width": 12
       },
       "report_default": {}
      }
     }
    }
   },
   "outputs": [
    {
     "name": "stdout",
     "output_type": "stream",
     "text": [
      "top senders:  ['Abedin, Huma', 'Mills, Cheryl D', 'Sullivan, Jacob J', 'Blumenthal, Sidney', 'Jiloty, Lauren C', 'Reines, Philippe I', 'Valmoro, Lona J', 'Slaughter, Anne-Marie', 'Verma, Richard R', 'Verveer, Melanne S', 'Muscatine, Lissa', 'McHale, Judith A', 'Ebeling, Betsy', 'Talbott, Strobe', 'Hanley, Monica R', 'Russo, Robert V', 'Balderston, Kris M', 'Blair, Cherie', 'Crowley, Philip J', 'Fuchs, Michael H']\n"
     ]
    },
    {
     "data": {
      "image/png": "[encoded data removed]",
      "text/plain": [
       "<matplotlib.figure.Figure at 0x1155f9160>"
      ]
     },
     "metadata": {},
     "output_type": "display_data"
    }
   ],
   "source": [
    "fig1 = plt.figure()\n",
    "plt.barh(y_pos, values, align='center')\n",
    "plt.yticks(y_pos, names)\n",
    "plt.gca().invert_yaxis()\n",
    "plt.axis('tight')\n",
    "#plt.tick_params(axis=\"y\",labelsize=\"10\")\n",
    "plt.xlabel('Emails sent by person')\n",
    "plt.title('Who sent Clinton the most emails?')\n",
    "plt.savefig(\"1.ClintonSenders.png\",bbox_inches='tight')\n",
    "\n",
    "print(\"top senders: \", names)"
   ]
  },
  {
   "cell_type": "code",
   "execution_count": 30,
   "metadata": {
    "extensions": {
     "jupyter_dashboards": {
      "version": 1,
      "views": {
       "grid_default": {
        "hidden": true
       },
       "report_default": {}
      }
     }
    }
   },
   "outputs": [],
   "source": [
    "data = sql_conn.execute('SELECT MetadataTo, MetadataFrom FROM Emails WHERE MetadataFrom LIKE \"H\"')\n",
    "\n",
    "otherReceivers = []\n",
    "\n",
    "for email in data:\n",
    "    if email[0] != '':\n",
    "        if email[0].lower() in pseudonyms:\n",
    "            otherReceivers.append(realNames[pseudonyms.index(email[0].lower())])\n",
    "        else:\n",
    "            otherReceivers.append(email[0])\n",
    "\n",
    "c = Counter(otherReceivers)\n",
    "topReceivers = (c.most_common(20))\n",
    "\n",
    "names = [x[0] for x in topReceivers]\n",
    "y_pos = np.arange(0, len(names)*2, 2)\n",
    "#y_pos = np.arange(len(names))\n",
    "values = [x[1] for x in topReceivers]"
   ]
  },
  {
   "cell_type": "code",
   "execution_count": 31,
   "metadata": {
    "extensions": {
     "jupyter_dashboards": {
      "version": 1,
      "views": {
       "grid_default": {
        "col": 0,
        "height": 14,
        "hidden": false,
        "row": 15,
        "width": 12
       },
       "report_default": {}
      }
     }
    }
   },
   "outputs": [
    {
     "name": "stdout",
     "output_type": "stream",
     "text": [
      "top receivers:  ['Abedin, Huma', 'Mills, Cheryl D', 'Sullivan, Jacob J', 'Jiloty, Lauren C', 'Valmoro, Lona J', 'Reines, Philippe I', 'Blumenthal, Sidney', 'Hanley, Monica R', 'Slaughter, Anne-Marie', 'Verma, Richard R', 'Russo, Robert V', 'Verveer, Melanne S', 'Balderston, Kris M', 'Muscatine, Lissa', 'Talbott, Strobe', 'Crowley, Philip J', 'McHale, Judith A', 'Campbell, Kurt M', 'Steinberg, James B', 'Lew, Jacob J']\n"
     ]
    },
    {
     "data": {
      "image/png": "[encoded data removed]",
      "text/plain": [
       "<matplotlib.figure.Figure at 0x115410a20>"
      ]
     },
     "metadata": {},
     "output_type": "display_data"
    }
   ],
   "source": [
    "fig1 = plt.figure()\n",
    "plt.barh(y_pos, values, align='center')\n",
    "plt.yticks(y_pos, names)\n",
    "plt.gca().invert_yaxis()\n",
    "plt.axis('tight')\n",
    "#plt.tick_params(axis=\"y\",labelsize=\"10\")\n",
    "plt.xlabel('Emails received by person')\n",
    "plt.title('Who did Clinton send the most emails to?')\n",
    "plt.savefig(\"2.ClintonReceivers.png\",bbox_inches='tight')\n",
    "\n",
    "print(\"top receivers: \", names)"
   ]
  },
  {
   "cell_type": "code",
   "execution_count": null,
   "metadata": {
    "extensions": {
     "jupyter_dashboards": {
      "version": 1,
      "views": {
       "grid_default": {
        "hidden": true
       },
       "report_default": {}
      }
     }
    }
   },
   "outputs": [],
   "source": []
  }
 ],
 "metadata": {
  "extensions": {
   "jupyter_dashboards": {
    "activeView": "grid_default",
    "version": 1,
    "views": {
     "grid_default": {
      "cellMargin": 10,
      "defaultCellHeight": 20,
      "maxColumns": 12,
      "name": "grid",
      "type": "grid"
     },
     "report_default": {
      "name": "report",
      "type": "report"
     }
    }
   }
  },
  "kernelspec": {
   "display_name": "Python 3",
   "language": "python",
   "name": "python3"
  },
  "language_info": {
   "codemirror_mode": {
    "name": "ipython",
    "version": 3
   },
   "file_extension": ".py",
   "mimetype": "text/x-python",
   "name": "python",
   "nbconvert_exporter": "python",
   "pygments_lexer": "ipython3",
   "version": "3.6.3"
  }
 },
 "nbformat": 4,
 "nbformat_minor": 2
}
